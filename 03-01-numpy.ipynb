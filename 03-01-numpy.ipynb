{
 "cells": [
  {
   "cell_type": "markdown",
   "metadata": {},
   "source": [
    "# Exercises\n",
    "\n",
    "1. Generate a 4x3 two-dimensional array with random integer values ​​between 34 and 98. Once each array is created, check the dimensions and data types we have in the array.\n",
    "\n",
    "2. Create two arrays (one-dimensional, two-dimensional) using the `np.array()` method.\n",
    "\n",
    "The lists to create the arrays are the following\n",
    "\n",
    "```python\n",
    "list1 = [34,56,71,98, 10]\n",
    "list2 = [[23,45,89, 56], [12,43,82,44]]\n",
    "```\n",
    "\n",
    "**Bonus** Make a short description of each array using the array scanning methods we have learned.\n",
    "\n"
   ]
  },
  {
   "cell_type": "code",
   "execution_count": null,
   "metadata": {},
   "outputs": [],
   "source": [
    "import numpy as np"
   ]
  },
  {
   "cell_type": "code",
   "execution_count": null,
   "metadata": {},
   "outputs": [],
   "source": [
    "# Exercise 1\n",
    "\n",
    "print(\"Create a bidimensional array of 4 rows and 3 columns with random values between 34 and 98\\n\")\n",
    "\n",
    "array_bidimensional1 = np.random.randint(34, 98, (4,3)) \n",
    "print(array_bidimensional1)\n",
    "\n",
    "print(f\"\\nThe array has {array_bidimensional1.ndim} dimensions with the following sizes: {array_bidimensional1.shape}\\n\")\n",
    "\n",
    "print(f\".ndim method response's type is {type(array_bidimensional1.ndim)}\\n.shape method response's type is {type(array_bidimensional1.shape)}\\n\")\n",
    "\n",
    "print(f\"Array data type is {array_bidimensional1.dtype}\\n\")\n",
    "\n",
    "print(f\".dtype method response's type is {type(array_bidimensional1.dtype)}\\n\")\n"
   ]
  },
  {
   "cell_type": "code",
   "execution_count": null,
   "metadata": {},
   "outputs": [],
   "source": [
    "# Exercise 2\n",
    "\n",
    "list1 = [34,56,71,98, 10]\n",
    "list2 = [[23,45,89, 56], [12,43,82,44]]\n",
    "\n",
    "array1 = np.array(list1)\n",
    "\n",
    "print(array1)\n",
    "\n",
    "array2 = np.array(list2)\n",
    "\n",
    "print(array2)"
   ]
  }
 ],
 "metadata": {
  "kernelspec": {
   "display_name": "Python 3 (ipykernel)",
   "language": "python",
   "name": "python3"
  },
  "language_info": {
   "codemirror_mode": {
    "name": "ipython",
    "version": 3
   },
   "file_extension": ".py",
   "mimetype": "text/x-python",
   "name": "python",
   "nbconvert_exporter": "python",
   "pygments_lexer": "ipython3",
   "version": "3.9.12"
  },
  "toc": {
   "base_numbering": 1,
   "nav_menu": {},
   "number_sections": true,
   "sideBar": true,
   "skip_h1_title": false,
   "title_cell": "Table of Contents",
   "title_sidebar": "Contents",
   "toc_cell": true,
   "toc_position": {
    "height": "calc(100% - 180px)",
    "left": "10px",
    "top": "150px",
    "width": "426.667px"
   },
   "toc_section_display": true,
   "toc_window_display": true
  }
 },
 "nbformat": 4,
 "nbformat_minor": 2
}
